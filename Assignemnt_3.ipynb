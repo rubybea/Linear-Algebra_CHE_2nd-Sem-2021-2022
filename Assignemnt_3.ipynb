{
  "nbformat": 4,
  "nbformat_minor": 0,
  "metadata": {
    "colab": {
      "name": "Assignemnt 3.ipynb",
      "provenance": [],
      "collapsed_sections": [],
      "authorship_tag": "ABX9TyODE4DiKlDY4KrazePb18LX",
      "include_colab_link": true
    },
    "kernelspec": {
      "name": "python3",
      "display_name": "Python 3"
    },
    "language_info": {
      "name": "python"
    }
  },
  "cells": [
    {
      "cell_type": "markdown",
      "metadata": {
        "id": "view-in-github",
        "colab_type": "text"
      },
      "source": [
        "<a href=\"https://colab.research.google.com/github/rubybea/Linear-Algebra_CHE_2nd-Sem-2021-2022/blob/main/Assignemnt_3.ipynb\" target=\"_parent\"><img src=\"https://colab.research.google.com/assets/colab-badge.svg\" alt=\"Open In Colab\"/></a>"
      ]
    },
    {
      "cell_type": "markdown",
      "source": [
        "# Linear Algebra for ChE\n",
        "# Assignment 3: Matrices"
      ],
      "metadata": {
        "id": "wyKHYqHsZHFv"
      }
    },
    {
      "cell_type": "markdown",
      "source": [
        "We'll try to explore in greater dimensions now that you have a basic understanding of Python."
      ],
      "metadata": {
        "id": "k6ypcvi6ZQR3"
      }
    },
    {
      "cell_type": "markdown",
      "source": [
        "## Objectives\n",
        "You will be able to:\n",
        "\n",
        "Be familiar with matrices and how they relate to linear equations.\n",
        "Basic matrix computations are performed.\n",
        "Matrix equations can be programmed and translated using Python.\n"
      ],
      "metadata": {
        "id": "eYy0Oc_XZg48"
      }
    },
    {
      "cell_type": "markdown",
      "source": [
        "#Discussion"
      ],
      "metadata": {
        "id": "f3mpEDzFZhGJ"
      }
    },
    {
      "cell_type": "code",
      "source": [
        "import numpy as np\n",
        "import matplotlib.pyplot as plt\n",
        "import scipy.linalg as la\n",
        "%matplotlib inline"
      ],
      "metadata": {
        "id": "c4s4RXylZz0b"
      },
      "execution_count": null,
      "outputs": []
    },
    {
      "cell_type": "markdown",
      "source": [
        "##Matrices"
      ],
      "metadata": {
        "id": "YtmYSOd1Z3_3"
      }
    },
    {
      "cell_type": "markdown",
      "source": [
        "One of the most fundamental aspects of modern computing is the notation and use of matrices. Matrices are also useful representations of complicated equations or many interconnected equations, ranging from two-dimensional to hundreds of thousands of them."
      ],
      "metadata": {
        "id": "QxxPuR9PZ7Wu"
      }
    },
    {
      "cell_type": "markdown",
      "source": [
        "Let's assume you have two variables, A and B, in your equation"
      ],
      "metadata": {
        "id": "vPB-a0GwZ_EO"
      }
    },
    {
      "cell_type": "markdown",
      "source": [
        "$$\n",
        "A = \\left\\{\n",
        "    \\begin{array}\\\n",
        "        x + y \\\\\n",
        "        4x - 10y\n",
        "    \\end{array}\n",
        "\\right. \\\\\n",
        "B = \\left\\{\n",
        "    \\begin{array}\\\n",
        "        x+y+z \\\\\n",
        "        3x -2y -z \\\\\n",
        "      -x + 4y +2z\n",
        "    \\end{array}\n",
        "\\right. \\\\\n",
        "C = \\left\\{\n",
        "    \\begin{array}\\\n",
        "        w-2x+3y-4z \\\\\n",
        "        3w- x -2y +z \\\\\n",
        "    \\end{array}\n",
        "\\right. $$"
      ],
      "metadata": {
        "id": "_A6TaVX8aIat"
      }
    },
    {
      "cell_type": "markdown",
      "source": [
        "Assume you've already covered the fundamental format, types, and operations of matrices. We'll go ahead and do them in Python here."
      ],
      "metadata": {
        "id": "gQOpJDEqaJbC"
      }
    },
    {
      "cell_type": "markdown",
      "source": [
        "##Declaring Matrices"
      ],
      "metadata": {
        "id": "hnKlEDBpaQ3M"
      }
    },
    {
      "cell_type": "markdown",
      "source": [
        "We'll express a system of linear equations as a matrix, much like we did in our previous laboratory exercise. The elements of a matrix are the things or numbers in matrices. Matrixes have a list/array-like structure in which these items are grouped and ordered in rows and columns. These elements are indexed according to their location in relation to their rows and columns, exactly like arrays. The equation below can be used to express this. A is a matrix whose elements are indicated by the symbol aij. The number of rows in the matrix is denoted by i whereas the number of columns is denoted by j.\n",
        "\n",
        "It's worth noting that a matrix's size is i x j"
      ],
      "metadata": {
        "id": "i4g9mptUaQ_Z"
      }
    },
    {
      "cell_type": "markdown",
      "source": [
        "$$A=\\begin{bmatrix}\n",
        "a_{(0,0)}&a_{(0,1)}&\\dots&a_{0,j-1)}\\\\\n",
        "a_{(1,0)}&a_{(1,1)}&\\dots&a_{1,j-1)}\\\\\n",
        "\\vdots&\\vdots&ddot&\\vdots&\\\\\n",
        "a_{(i-1,0)}&a_{(i-1,1)}&\\dots&a_{(i-1,j-1)}\n",
        "\\end{bmatrix}\n",
        "$$"
      ],
      "metadata": {
        "id": "Pfd4OtaEad9t"
      }
    },
    {
      "cell_type": "markdown",
      "source": [
        "We've previously gone over some of the different types of matrices as vectors, but in this lab assignment, we'll go over them again. Because you already know how to create vectors using form, dimensions, and size attributes, we'll use these features to study these matrices"
      ],
      "metadata": {
        "id": "B0w1u0FHaiy6"
      }
    },
    {
      "cell_type": "code",
      "source": [
        "## Since we'll keep on describing matrices. Let's make a function.\n",
        "def describe_mat(matrix):\n",
        "    print(f'Matrix:\\n{matrix}\\n\\nShape:\\t{matrix.shape}\\nRank:\\t{matrix.ndim}\\n')"
      ],
      "metadata": {
        "id": "lUmHQy_4alw3"
      },
      "execution_count": null,
      "outputs": []
    },
    {
      "cell_type": "code",
      "source": [
        "## Declaring a 2 x 2 matrix\n",
        "A = np.array([\n",
        "    [1, 2],\n",
        "    [3, 1]\n",
        "])\n",
        "describe_mat(A)"
      ],
      "metadata": {
        "colab": {
          "base_uri": "https://localhost:8080/"
        },
        "id": "26ocF0IQan4F",
        "outputId": "43ec0deb-30a1-441f-e0ff-d36e653ad152"
      },
      "execution_count": null,
      "outputs": [
        {
          "output_type": "stream",
          "name": "stdout",
          "text": [
            "Matrix:\n",
            "[[1 2]\n",
            " [3 1]]\n",
            "\n",
            "Shape:\t(2, 2)\n",
            "Rank:\t2\n",
            "\n"
          ]
        }
      ]
    },
    {
      "cell_type": "code",
      "source": [
        "G = np.array([\n",
        "    [1,1],\n",
        "    [2,2]\n",
        "])\n",
        "describe_mat(G)"
      ],
      "metadata": {
        "colab": {
          "base_uri": "https://localhost:8080/"
        },
        "id": "KkoOxKiRazKZ",
        "outputId": "9e165a69-001b-46d3-e173-3797cd46edec"
      },
      "execution_count": null,
      "outputs": [
        {
          "output_type": "stream",
          "name": "stdout",
          "text": [
            "Matrix:\n",
            "[[1 1]\n",
            " [2 2]]\n",
            "\n",
            "Shape:\t(2, 2)\n",
            "Rank:\t2\n",
            "\n"
          ]
        }
      ]
    },
    {
      "cell_type": "code",
      "source": [
        "## Declaring a 3 x 2 matrix\n",
        "B = np.array([\n",
        "    [8, 2],\n",
        "    [5, 4],\n",
        "    [1, 1]\n",
        "])\n",
        "describe_mat(B)"
      ],
      "metadata": {
        "colab": {
          "base_uri": "https://localhost:8080/"
        },
        "id": "oI2jcfK4a4MJ",
        "outputId": "df4aae91-1bae-4ccb-a9ad-4f252deeda19"
      },
      "execution_count": null,
      "outputs": [
        {
          "output_type": "stream",
          "name": "stdout",
          "text": [
            "Matrix:\n",
            "[[8 2]\n",
            " [5 4]\n",
            " [1 1]]\n",
            "\n",
            "Shape:\t(3, 2)\n",
            "Rank:\t2\n",
            "\n"
          ]
        }
      ]
    },
    {
      "cell_type": "code",
      "source": [
        "H = np.array([1,2,3,4,5])\n",
        "describe_mat(H)"
      ],
      "metadata": {
        "colab": {
          "base_uri": "https://localhost:8080/"
        },
        "id": "BwU6h_1ra50Q",
        "outputId": "c5c8689e-8011-47ae-972c-daee48d7cab8"
      },
      "execution_count": null,
      "outputs": [
        {
          "output_type": "stream",
          "name": "stdout",
          "text": [
            "Matrix:\n",
            "[1 2 3 4 5]\n",
            "\n",
            "Shape:\t(5,)\n",
            "Rank:\t1\n",
            "\n"
          ]
        }
      ]
    },
    {
      "cell_type": "markdown",
      "source": [
        "#Categorizing Matrices"
      ],
      "metadata": {
        "id": "QRKyiF2KbMRZ"
      }
    },
    {
      "cell_type": "markdown",
      "source": [
        "Matrixes can be classified in a variety of ways. One may be based on their form, while the other could be based on their element values. We'll do our best to get through them."
      ],
      "metadata": {
        "id": "m-RslG0UbS_R"
      }
    },
    {
      "cell_type": "markdown",
      "source": [
        "## According to shape"
      ],
      "metadata": {
        "id": "2o1aK0-JbUa1"
      }
    },
    {
      "cell_type": "markdown",
      "source": [
        "##Row and Column Matrices"
      ],
      "metadata": {
        "id": "cbK3n4EDbZ_6"
      }
    },
    {
      "cell_type": "markdown",
      "source": [
        "In vector and matrix calculations, row and column matrices are frequent. They can also be used to represent the rows and columns of a larger vector space. A single column or row is used to depict row and column matrices. As a result, the form of row matrices is 1 x j, whereas the shape of column matrices is i x 1."
      ],
      "metadata": {
        "id": "9VbdYirXbdsf"
      }
    },
    {
      "cell_type": "code",
      "source": [
        "## Declaring a Row Matrix\n",
        "\n",
        "row_mat_1D = np.array([\n",
        "    1, 3, 2\n",
        "]) ## this is a 1-D Matrix with a shape of (3,), it's not really considered as a row matrix.\n",
        "row_mat_2D = np.array([\n",
        "    [1,2,3]\n",
        "]) ## this is a 2-D Matrix with a shape of (1,3)\n",
        "describe_mat(row_mat_1D)\n",
        "describe_mat(row_mat_2D)"
      ],
      "metadata": {
        "colab": {
          "base_uri": "https://localhost:8080/"
        },
        "id": "_Fp1n10-a9rh",
        "outputId": "9d0ba57c-45a3-43a1-9df4-cd978fa36a15"
      },
      "execution_count": null,
      "outputs": [
        {
          "output_type": "stream",
          "name": "stdout",
          "text": [
            "Matrix:\n",
            "[1 3 2]\n",
            "\n",
            "Shape:\t(3,)\n",
            "Rank:\t1\n",
            "\n",
            "Matrix:\n",
            "[[1 2 3]]\n",
            "\n",
            "Shape:\t(1, 3)\n",
            "Rank:\t2\n",
            "\n"
          ]
        }
      ]
    },
    {
      "cell_type": "code",
      "source": [
        "## Declaring a Column Matrix\n",
        "\n",
        "col_mat = np.array([\n",
        "    [1],\n",
        "    [2],\n",
        "    [5]\n",
        "]) ## this is a 2-D Matrix with a shape of (3,1)\n",
        "describe_mat(col_mat)"
      ],
      "metadata": {
        "colab": {
          "base_uri": "https://localhost:8080/"
        },
        "id": "Te2s2fLacTd6",
        "outputId": "f438441a-6c99-4507-aff9-dbd3fb63d88e"
      },
      "execution_count": null,
      "outputs": [
        {
          "output_type": "stream",
          "name": "stdout",
          "text": [
            "Matrix:\n",
            "[[1]\n",
            " [2]\n",
            " [5]]\n",
            "\n",
            "Shape:\t(3, 1)\n",
            "Rank:\t2\n",
            "\n"
          ]
        }
      ]
    },
    {
      "cell_type": "markdown",
      "source": [
        "##Square Matrices"
      ],
      "metadata": {
        "id": "KCyBvJJ2c1kV"
      }
    },
    {
      "cell_type": "markdown",
      "source": [
        "Matrixes with the same row and column sizes are known as square matrices. If we can claim that a matrix is square, in order to find square matrices, we may change our matrix descriptor function."
      ],
      "metadata": {
        "id": "Lq1C4ymJc3lb"
      }
    },
    {
      "cell_type": "code",
      "source": [
        "def describe_mat(matrix):\n",
        "    is_square = True if matrix.shape[0] == matrix.shape[1] else False \n",
        "    print(f'Matrix:\\n{matrix}\\n\\nShape:\\t{matrix.shape}\\nRank:\\t{matrix.ndim}\\nIs Square: {is_square}\\n')"
      ],
      "metadata": {
        "id": "-sB7j7Hec7Rw"
      },
      "execution_count": null,
      "outputs": []
    },
    {
      "cell_type": "code",
      "source": [
        "square_mat = np.array([\n",
        "    [1,2,5],\n",
        "    [3,3,8],\n",
        "    [6,1,2]\n",
        "])\n",
        "\n",
        "non_square_mat = np.array([\n",
        "    [1,2,5],\n",
        "    [3,3,8]\n",
        "])\n",
        "describe_mat(square_mat)\n",
        "describe_mat(non_square_mat)"
      ],
      "metadata": {
        "colab": {
          "base_uri": "https://localhost:8080/"
        },
        "id": "190c6Jsbc_Sc",
        "outputId": "e3b19c92-b59a-49f6-9b45-23f46427c5b7"
      },
      "execution_count": null,
      "outputs": [
        {
          "output_type": "stream",
          "name": "stdout",
          "text": [
            "Matrix:\n",
            "[[1 2 5]\n",
            " [3 3 8]\n",
            " [6 1 2]]\n",
            "\n",
            "Shape:\t(3, 3)\n",
            "Rank:\t2\n",
            "Is Square: True\n",
            "\n",
            "Matrix:\n",
            "[[1 2 5]\n",
            " [3 3 8]]\n",
            "\n",
            "Shape:\t(2, 3)\n",
            "Rank:\t2\n",
            "Is Square: False\n",
            "\n"
          ]
        }
      ]
    },
    {
      "cell_type": "markdown",
      "source": [
        "#According to element values"
      ],
      "metadata": {
        "id": "o0tx1gKcdc_T"
      }
    },
    {
      "cell_type": "markdown",
      "source": [
        "##Null Matrix"
      ],
      "metadata": {
        "id": "RcPL9TCGdhtA"
      }
    },
    {
      "cell_type": "markdown",
      "source": [
        "A Null Matrix is a matrix that has no elements. It is always a subspace of any vector or matrix"
      ],
      "metadata": {
        "id": "tQu47iNOdkzD"
      }
    },
    {
      "cell_type": "code",
      "source": [
        "def describe_mat(matrix):\n",
        "    if matrix.size > 0:\n",
        "        is_square = True if matrix.shape[0] == matrix.shape[1] else False \n",
        "        print(f'Matrix:\\n{matrix}\\n\\nShape:\\t{matrix.shape}\\nRank:\\t{matrix.ndim}\\nIs Square: {is_square}\\n')\n",
        "    else:\n",
        "        print('Matrix is Null')"
      ],
      "metadata": {
        "id": "6xFpBPT8drux"
      },
      "execution_count": null,
      "outputs": []
    },
    {
      "cell_type": "code",
      "source": [
        "null_mat = np.array([])\n",
        "describe_mat(null_mat)"
      ],
      "metadata": {
        "colab": {
          "base_uri": "https://localhost:8080/"
        },
        "id": "RhCLWh9bds9N",
        "outputId": "8d3580b7-3db7-4da1-b011-a147232465b5"
      },
      "execution_count": null,
      "outputs": [
        {
          "output_type": "stream",
          "name": "stdout",
          "text": [
            "Matrix is Null\n"
          ]
        }
      ]
    },
    {
      "cell_type": "markdown",
      "source": [
        "##Zero Matrix"
      ],
      "metadata": {
        "id": "1Tg7uTH1dzny"
      }
    },
    {
      "cell_type": "markdown",
      "source": [
        "A zero matrix can be any rectangular matrix but with all elements having a value of 0."
      ],
      "metadata": {
        "id": "3YJ-xfYwd1O9"
      }
    },
    {
      "cell_type": "code",
      "source": [
        "zero_mat_row = np.zeros((1,2))\n",
        "zero_mat_sqr = np.zeros((2,2))\n",
        "zero_mat_rct = np.zeros((3,2))\n",
        "\n",
        "print(f'Zero Row Matrix: \\n{zero_mat_row}')\n",
        "print(f'Zero Square Matrix: \\n{zero_mat_sqr}')\n",
        "print(f'Zero Rectangular Matrix: \\n{zero_mat_rct}')"
      ],
      "metadata": {
        "colab": {
          "base_uri": "https://localhost:8080/"
        },
        "id": "ls17f_30d7Pw",
        "outputId": "d9778704-09ee-44f2-8881-7ab5f60a692f"
      },
      "execution_count": null,
      "outputs": [
        {
          "output_type": "stream",
          "name": "stdout",
          "text": [
            "Zero Row Matrix: \n",
            "[[0. 0.]]\n",
            "Zero Square Matrix: \n",
            "[[0. 0.]\n",
            " [0. 0.]]\n",
            "Zero Rectangular Matrix: \n",
            "[[0. 0.]\n",
            " [0. 0.]\n",
            " [0. 0.]]\n"
          ]
        }
      ]
    },
    {
      "cell_type": "markdown",
      "source": [
        "##Ones Matrix"
      ],
      "metadata": {
        "id": "I6Gwm2k6eAj9"
      }
    },
    {
      "cell_type": "markdown",
      "source": [
        "A ones matrix, just like the zero matrix, can be any rectangular matrix but all of its elements are 1s instead of 0s."
      ],
      "metadata": {
        "id": "tANqNGDNeB93"
      }
    },
    {
      "cell_type": "code",
      "source": [
        "ones_mat_row = np.ones((1,2))\n",
        "ones_mat_sqr = np.ones((2,2))\n",
        "ones_mat_rct = np.ones((3,2))\n",
        "\n",
        "print(f'Ones Row Matrix: \\n{ones_mat_row}')\n",
        "print(f'Ones Square Matrix: \\n{ones_mat_sqr}')\n",
        "print(f'Ones Rectangular Matrix: \\n{ones_mat_rct}')"
      ],
      "metadata": {
        "colab": {
          "base_uri": "https://localhost:8080/"
        },
        "id": "iNiSXFtjeFVn",
        "outputId": "72bd489b-8157-4f7b-a2a6-730fcd5df777"
      },
      "execution_count": null,
      "outputs": [
        {
          "output_type": "stream",
          "name": "stdout",
          "text": [
            "Ones Row Matrix: \n",
            "[[1. 1.]]\n",
            "Ones Square Matrix: \n",
            "[[1. 1.]\n",
            " [1. 1.]]\n",
            "Ones Rectangular Matrix: \n",
            "[[1. 1.]\n",
            " [1. 1.]\n",
            " [1. 1.]]\n"
          ]
        }
      ]
    },
    {
      "cell_type": "markdown",
      "source": [
        "##Diagonal Matrix"
      ],
      "metadata": {
        "id": "DiE_FL-beMW3"
      }
    },
    {
      "cell_type": "markdown",
      "source": [
        "A diagonal matrix is a square matrix that has values only at the diagonal of the matrix."
      ],
      "metadata": {
        "id": "v201hoQ0ePKJ"
      }
    },
    {
      "cell_type": "code",
      "source": [
        "np.array([\n",
        "    [2,0,0],\n",
        "    [0,3,0],\n",
        "    [0,0,5]\n",
        "])\n",
        "# a[1,1], a[2,2], a[3,3], ... a[n-1,n-1]"
      ],
      "metadata": {
        "colab": {
          "base_uri": "https://localhost:8080/"
        },
        "id": "bmd_i4g0eSJ5",
        "outputId": "f96693af-695f-42de-867d-42114f1c922c"
      },
      "execution_count": null,
      "outputs": [
        {
          "output_type": "execute_result",
          "data": {
            "text/plain": [
              "array([[2, 0, 0],\n",
              "       [0, 3, 0],\n",
              "       [0, 0, 5]])"
            ]
          },
          "metadata": {},
          "execution_count": 16
        }
      ]
    },
    {
      "cell_type": "code",
      "source": [
        "d = np.diag([2,3,5,7])\n",
        "np.diag(d).shape == d.shape[0] == d.shape[1]"
      ],
      "metadata": {
        "colab": {
          "base_uri": "https://localhost:8080/"
        },
        "id": "mxEmfmn2ea3a",
        "outputId": "c98a8ae8-69fd-4043-fb31-0a7a21e26834"
      },
      "execution_count": null,
      "outputs": [
        {
          "output_type": "execute_result",
          "data": {
            "text/plain": [
              "False"
            ]
          },
          "metadata": {},
          "execution_count": 17
        }
      ]
    },
    {
      "cell_type": "markdown",
      "source": [
        "##Identity Matrix"
      ],
      "metadata": {
        "id": "Qi8Md1IieeMC"
      }
    },
    {
      "cell_type": "markdown",
      "source": [
        "An identity matrix is a special diagonal matrix in which the values at the diagonal are ones"
      ],
      "metadata": {
        "id": "VjFOFtvxegrx"
      }
    },
    {
      "cell_type": "code",
      "source": [
        "np.eye(5)"
      ],
      "metadata": {
        "colab": {
          "base_uri": "https://localhost:8080/"
        },
        "id": "3x9Po2i2ejvV",
        "outputId": "9d6be650-c0de-4777-dd41-8dd3abab6248"
      },
      "execution_count": null,
      "outputs": [
        {
          "output_type": "execute_result",
          "data": {
            "text/plain": [
              "array([[1., 0., 0., 0., 0.],\n",
              "       [0., 1., 0., 0., 0.],\n",
              "       [0., 0., 1., 0., 0.],\n",
              "       [0., 0., 0., 1., 0.],\n",
              "       [0., 0., 0., 0., 1.]])"
            ]
          },
          "metadata": {},
          "execution_count": 18
        }
      ]
    },
    {
      "cell_type": "code",
      "source": [
        "np.identity(5)"
      ],
      "metadata": {
        "colab": {
          "base_uri": "https://localhost:8080/"
        },
        "id": "ZSUK_Ssneo-u",
        "outputId": "166b0d83-2cfb-45f7-e12f-46e7e7451f63"
      },
      "execution_count": null,
      "outputs": [
        {
          "output_type": "execute_result",
          "data": {
            "text/plain": [
              "array([[1., 0., 0., 0., 0.],\n",
              "       [0., 1., 0., 0., 0.],\n",
              "       [0., 0., 1., 0., 0.],\n",
              "       [0., 0., 0., 1., 0.],\n",
              "       [0., 0., 0., 0., 1.]])"
            ]
          },
          "metadata": {},
          "execution_count": 19
        }
      ]
    },
    {
      "cell_type": "markdown",
      "source": [
        "##Upper Triangular Matrix"
      ],
      "metadata": {
        "id": "GAUWTuYnes1F"
      }
    },
    {
      "cell_type": "markdown",
      "source": [
        "An upper triangular matrix is a matrix that has no values below the diagona"
      ],
      "metadata": {
        "id": "792Vk7YuevLK"
      }
    },
    {
      "cell_type": "code",
      "source": [
        "np.array([\n",
        "    [1,2,3],\n",
        "    [0,3,1],\n",
        "    [0,0,5]\n",
        "])"
      ],
      "metadata": {
        "colab": {
          "base_uri": "https://localhost:8080/"
        },
        "id": "CvDfzwkseyIF",
        "outputId": "570a518f-b200-4fdd-eec3-8566d05a8798"
      },
      "execution_count": null,
      "outputs": [
        {
          "output_type": "execute_result",
          "data": {
            "text/plain": [
              "array([[1, 2, 3],\n",
              "       [0, 3, 1],\n",
              "       [0, 0, 5]])"
            ]
          },
          "metadata": {},
          "execution_count": 20
        }
      ]
    },
    {
      "cell_type": "markdown",
      "source": [
        "##Lower Triangular Matrix"
      ],
      "metadata": {
        "id": "m_Hx7JuIfTCN"
      }
    },
    {
      "cell_type": "markdown",
      "source": [
        "A lower triangular matrix is a matrix that has no values above the diagonal"
      ],
      "metadata": {
        "id": "6Ow3TcwefWwX"
      }
    },
    {
      "cell_type": "code",
      "source": [
        "np.array([\n",
        "    [1,0,0],\n",
        "    [5,3,0],\n",
        "    [7,8,5]\n",
        "])"
      ],
      "metadata": {
        "colab": {
          "base_uri": "https://localhost:8080/"
        },
        "id": "LhmcGd-bfan9",
        "outputId": "2806044b-fc07-4005-8abd-b858c8d1a468"
      },
      "execution_count": null,
      "outputs": [
        {
          "output_type": "execute_result",
          "data": {
            "text/plain": [
              "array([[1, 0, 0],\n",
              "       [5, 3, 0],\n",
              "       [7, 8, 5]])"
            ]
          },
          "metadata": {},
          "execution_count": 21
        }
      ]
    },
    {
      "cell_type": "markdown",
      "source": [
        "#Practice"
      ],
      "metadata": {
        "id": "W9PW1EFpfgM2"
      }
    },
    {
      "cell_type": "markdown",
      "source": [
        "1. Given the linear combination below, try to create a corresponding matrix representing it"
      ],
      "metadata": {
        "id": "Yiep29rYfiKc"
      }
    },
    {
      "cell_type": "markdown",
      "source": [
        ":$$\\theta = 5x + 3y = :$$"
      ],
      "metadata": {
        "id": "TYm7fWG-fnlw"
      }
    },
    {
      "cell_type": "markdown",
      "source": [
        "  2. Given the system of linear combinations below, try to encode it as a matrix. Also describe the matrix"
      ],
      "metadata": {
        "id": "3MSVhU2kfrso"
      }
    },
    {
      "cell_type": "markdown",
      "source": [
        "$$\n",
        "A = \\left\\{\\begin{array}\n",
        "5x_1 + 2x_2 +x_3\\\\\n",
        "4x_2 - x_3\\\\\n",
        "10x_3\n",
        "\\end{array}\\right.\n",
        "$$"
      ],
      "metadata": {
        "id": "Eq-8y6Nkf1cC"
      }
    },
    {
      "cell_type": "markdown",
      "source": [
        "Given the matrix below, express it as a linear combination in a markdown."
      ],
      "metadata": {
        "id": "fTdieshdf49J"
      }
    },
    {
      "cell_type": "code",
      "source": [
        "G = np.array([\n",
        "    [1,7,8],\n",
        "    [2,2,2],\n",
        "    [4,6,7]\n",
        "])"
      ],
      "metadata": {
        "id": "SejktNp2gB-4"
      },
      "execution_count": null,
      "outputs": []
    },
    {
      "cell_type": "markdown",
      "source": [
        "Given the matrix below, display the output as a LaTeX makdown also express it as a system of linear combinations"
      ],
      "metadata": {
        "id": "h1sISFMvgGDv"
      }
    },
    {
      "cell_type": "code",
      "source": [
        "H = np.tril(G)\n",
        "H"
      ],
      "metadata": {
        "colab": {
          "base_uri": "https://localhost:8080/"
        },
        "id": "Ngql5ELCgHfK",
        "outputId": "a660ec17-c17d-409a-dbbf-1a7c667fb32d"
      },
      "execution_count": null,
      "outputs": [
        {
          "output_type": "execute_result",
          "data": {
            "text/plain": [
              "array([[1, 0, 0],\n",
              "       [2, 2, 0],\n",
              "       [4, 6, 7]])"
            ]
          },
          "metadata": {},
          "execution_count": 23
        }
      ]
    },
    {
      "cell_type": "markdown",
      "source": [
        "#Matrix Algebra"
      ],
      "metadata": {
        "id": "32Lx7TWSgNDt"
      }
    },
    {
      "cell_type": "markdown",
      "source": [
        "##Addition"
      ],
      "metadata": {
        "id": "lPgT6i8vgOYm"
      }
    },
    {
      "cell_type": "code",
      "source": [
        "A = np.array([\n",
        "    [1,2],\n",
        "    [2,3],\n",
        "    [4,1]\n",
        "])\n",
        "B = np.array([\n",
        "    [2,2],\n",
        "    [0,0],\n",
        "    [1,1]\n",
        "])\n",
        "A+B"
      ],
      "metadata": {
        "colab": {
          "base_uri": "https://localhost:8080/"
        },
        "id": "orrlz9algTzq",
        "outputId": "b67022e2-55da-4b09-f587-5df474967e7c"
      },
      "execution_count": null,
      "outputs": [
        {
          "output_type": "execute_result",
          "data": {
            "text/plain": [
              "array([[3, 4],\n",
              "       [2, 3],\n",
              "       [5, 2]])"
            ]
          },
          "metadata": {},
          "execution_count": 24
        }
      ]
    },
    {
      "cell_type": "code",
      "source": [
        "2+A ##Broadcasting\n",
        "# 2*np.ones(A.shape)+A"
      ],
      "metadata": {
        "colab": {
          "base_uri": "https://localhost:8080/"
        },
        "id": "YbzggOhUgYbY",
        "outputId": "560bad83-f94c-47ec-fee4-4fb751b4a585"
      },
      "execution_count": null,
      "outputs": [
        {
          "output_type": "execute_result",
          "data": {
            "text/plain": [
              "array([[3, 4],\n",
              "       [4, 5],\n",
              "       [6, 3]])"
            ]
          },
          "metadata": {},
          "execution_count": 25
        }
      ]
    },
    {
      "cell_type": "markdown",
      "source": [
        "##Subtraction"
      ],
      "metadata": {
        "id": "0EiiCbopgeQq"
      }
    },
    {
      "cell_type": "code",
      "source": [
        "A-B"
      ],
      "metadata": {
        "colab": {
          "base_uri": "https://localhost:8080/"
        },
        "id": "1X2idGT2gjSI",
        "outputId": "0976316e-6c76-4bb0-df85-04adebcba978"
      },
      "execution_count": null,
      "outputs": [
        {
          "output_type": "execute_result",
          "data": {
            "text/plain": [
              "array([[-1,  0],\n",
              "       [ 2,  3],\n",
              "       [ 3,  0]])"
            ]
          },
          "metadata": {},
          "execution_count": 26
        }
      ]
    },
    {
      "cell_type": "code",
      "source": [
        "3-B == 3*np.ones(B.shape)-B"
      ],
      "metadata": {
        "colab": {
          "base_uri": "https://localhost:8080/"
        },
        "id": "h_N0PI9Bgkgv",
        "outputId": "cdf492be-cfee-4de4-d818-ed256152f66f"
      },
      "execution_count": null,
      "outputs": [
        {
          "output_type": "execute_result",
          "data": {
            "text/plain": [
              "array([[ True,  True],\n",
              "       [ True,  True],\n",
              "       [ True,  True]])"
            ]
          },
          "metadata": {},
          "execution_count": 27
        }
      ]
    },
    {
      "cell_type": "markdown",
      "source": [
        "##Element-wise Multiplication"
      ],
      "metadata": {
        "id": "vmaXP4Ebg-Zy"
      }
    },
    {
      "cell_type": "code",
      "source": [
        "A*B\n",
        "np.multiply(A,B)"
      ],
      "metadata": {
        "colab": {
          "base_uri": "https://localhost:8080/"
        },
        "id": "BtUrBPF5hCAX",
        "outputId": "5805eb6f-605b-4869-cd33-d5bfcb6d1430"
      },
      "execution_count": null,
      "outputs": [
        {
          "output_type": "execute_result",
          "data": {
            "text/plain": [
              "array([[2, 4],\n",
              "       [0, 0],\n",
              "       [4, 1]])"
            ]
          },
          "metadata": {},
          "execution_count": 28
        }
      ]
    },
    {
      "cell_type": "code",
      "source": [
        "2*A"
      ],
      "metadata": {
        "colab": {
          "base_uri": "https://localhost:8080/"
        },
        "id": "RDQxsTd0gkmN",
        "outputId": "5585502b-6fa9-46bb-83ef-789fe91389a7"
      },
      "execution_count": null,
      "outputs": [
        {
          "output_type": "execute_result",
          "data": {
            "text/plain": [
              "array([[2, 4],\n",
              "       [4, 6],\n",
              "       [8, 2]])"
            ]
          },
          "metadata": {},
          "execution_count": 29
        }
      ]
    },
    {
      "cell_type": "code",
      "source": [
        "A@B"
      ],
      "metadata": {
        "colab": {
          "base_uri": "https://localhost:8080/",
          "height": 165
        },
        "id": "YMBobgzShK9l",
        "outputId": "c262c86e-183d-4c66-b6a9-68e7384cca44"
      },
      "execution_count": null,
      "outputs": [
        {
          "output_type": "error",
          "ename": "ValueError",
          "evalue": "ignored",
          "traceback": [
            "\u001b[0;31m---------------------------------------------------------------------------\u001b[0m",
            "\u001b[0;31mValueError\u001b[0m                                Traceback (most recent call last)",
            "\u001b[0;32m<ipython-input-30-5016aafd2858>\u001b[0m in \u001b[0;36m<module>\u001b[0;34m()\u001b[0m\n\u001b[0;32m----> 1\u001b[0;31m \u001b[0mA\u001b[0m\u001b[0;34m@\u001b[0m\u001b[0mB\u001b[0m\u001b[0;34m\u001b[0m\u001b[0;34m\u001b[0m\u001b[0m\n\u001b[0m",
            "\u001b[0;31mValueError\u001b[0m: matmul: Input operand 1 has a mismatch in its core dimension 0, with gufunc signature (n?,k),(k,m?)->(n?,m?) (size 3 is different from 2)"
          ]
        }
      ]
    },
    {
      "cell_type": "code",
      "source": [
        "alpha=10**-10\n",
        "A/(alpha+B)"
      ],
      "metadata": {
        "colab": {
          "base_uri": "https://localhost:8080/"
        },
        "id": "5PCkmmBvhO7W",
        "outputId": "d54b04ed-c19b-42f3-bf74-96fcfd3b7bb5"
      },
      "execution_count": null,
      "outputs": [
        {
          "output_type": "execute_result",
          "data": {
            "text/plain": [
              "array([[5.e-01, 1.e+00],\n",
              "       [2.e+10, 3.e+10],\n",
              "       [4.e+00, 1.e+00]])"
            ]
          },
          "metadata": {},
          "execution_count": 31
        }
      ]
    },
    {
      "cell_type": "code",
      "source": [
        "np.add(A,B)"
      ],
      "metadata": {
        "colab": {
          "base_uri": "https://localhost:8080/"
        },
        "id": "Kl63Uei-hRQp",
        "outputId": "969e6a6e-c67e-49c8-a320-ff646b067132"
      },
      "execution_count": null,
      "outputs": [
        {
          "output_type": "execute_result",
          "data": {
            "text/plain": [
              "array([[3, 4],\n",
              "       [2, 3],\n",
              "       [5, 2]])"
            ]
          },
          "metadata": {},
          "execution_count": 32
        }
      ]
    },
    {
      "cell_type": "markdown",
      "source": [
        "#Activity"
      ],
      "metadata": {
        "id": "uMSRu-mqhUVi"
      }
    },
    {
      "cell_type": "markdown",
      "source": [
        "##Task 1"
      ],
      "metadata": {
        "id": "DKz04ow2hXjn"
      }
    },
    {
      "cell_type": "markdown",
      "source": [
        "Create a function named mat_desc() that througouhly describes a matrix, it should\n",
        "\n",
        "1. Displays the shape, size, and rank of the matrix.\n",
        "2. Displays whether the matrix is square or non-square.\n",
        "3. Displays whether the matrix is an empty matrix.\n",
        "4. Displays if the matrix is an identity, ones, or zeros matrix\n",
        "\n",
        "\n",
        "Use 5 sample matrices in which their shapes are not lower than (3,3) . In your methodology, create a flowchart discuss the functions and methods you have done. Present your results in the results section showing the description of each matrix you have declared."
      ],
      "metadata": {
        "id": "62nm2Leehec3"
      }
    },
    {
      "cell_type": "code",
      "source": [
        "## Function area\n",
        "import numpy as np\n",
        "import matplotlib.pyplot as plt\n",
        "import scipy.linalg as la\n",
        "%matplotlib inline\n",
        "def mat_desc (matrix):\n",
        "  if matrix.size > 0:\n",
        "    if matrix.shape [0] == matrix.shape[1]:\n",
        "      s = \"Square.\"\n",
        "    else:\n",
        "      s = \"Non-square.\"\n",
        "    if np.all(matrix == np.identity(matrix.shape[0])):\n",
        "      sp = \"Identity Matrix.\"\n",
        "    elif np.all(matrix == np.zeros(matrix.shape)):\n",
        "      sp = \"Zero Matrix.\"\n",
        "    elif np.all(matrix == np.ones(matrix.shape)):\n",
        "      sp = \"Ones Matrix.\"\n",
        "    else:\n",
        "      sp = \"None.\"\n",
        "    print(f'Matrix:\\n{matrix}\\n\\nShape:\\t{matrix.shape}\\nRank:\\{matrix.ndim}\\nSquare?: {s}\\nSpecial Characteristics: {sp}')\n",
        "  else:\n",
        "    print('Matrix is Empty')"
      ],
      "metadata": {
        "id": "0vWANOr5hq8S"
      },
      "execution_count": 1,
      "outputs": []
    },
    {
      "cell_type": "code",
      "source": [
        "## Matrix declarations \n",
        "hi = np.array([ \n",
        "    [3,1,2,4], \n",
        "    [4,7,9,6], \n",
        "    [9,1,6,7]\n",
        "])\n",
        "one = np.array([\n",
        "    [1,1,1,1,1],\n",
        "    [1,1,1,1,1],\n",
        "    [1,1,1,1,1],\n",
        "    [1,1,1,1,1], \n",
        "]) \n",
        "id = np.array([\n",
        "    [1,0,0,0],\n",
        "    [0,1,0,0], \n",
        "    [0,0,1,0],\n",
        "    [0,0,0,1]\n",
        "])"
      ],
      "metadata": {
        "id": "vZ2dvzv5ht4W"
      },
      "execution_count": 2,
      "outputs": []
    },
    {
      "cell_type": "code",
      "source": [
        "## Test Areas"
      ],
      "metadata": {
        "id": "r9wQ8vKWht9-"
      },
      "execution_count": null,
      "outputs": []
    },
    {
      "cell_type": "code",
      "source": [
        "mat_desc(hi)"
      ],
      "metadata": {
        "colab": {
          "base_uri": "https://localhost:8080/"
        },
        "id": "UbPZzxu856kS",
        "outputId": "1d681c7b-390d-4a2d-e5c6-d9acf56380de"
      },
      "execution_count": 3,
      "outputs": [
        {
          "output_type": "stream",
          "name": "stdout",
          "text": [
            "Matrix:\n",
            "[[3 1 2 4]\n",
            " [4 7 9 6]\n",
            " [9 1 6 7]]\n",
            "\n",
            "Shape:\t(3, 4)\n",
            "Rank:\\2\n",
            "Square?: Non-square.\n",
            "Special Characteristics: None.\n"
          ]
        },
        {
          "output_type": "stream",
          "name": "stderr",
          "text": [
            "/usr/local/lib/python3.7/dist-packages/ipykernel_launcher.py:12: DeprecationWarning: elementwise comparison failed; this will raise an error in the future.\n",
            "  if sys.path[0] == '':\n"
          ]
        }
      ]
    },
    {
      "cell_type": "code",
      "source": [
        "mat_desc(one)"
      ],
      "metadata": {
        "id": "CMlCvOS76AXd"
      },
      "execution_count": null,
      "outputs": []
    },
    {
      "cell_type": "code",
      "source": [
        "mat_desc(id)"
      ],
      "metadata": {
        "colab": {
          "base_uri": "https://localhost:8080/"
        },
        "id": "ET3G7BHn6AfC",
        "outputId": "fe2c9c7b-5602-46e4-c8b7-e1df5023cdad"
      },
      "execution_count": 5,
      "outputs": [
        {
          "output_type": "stream",
          "name": "stdout",
          "text": [
            "Matrix:\n",
            "[[1 0 0 0]\n",
            " [0 1 0 0]\n",
            " [0 0 1 0]\n",
            " [0 0 0 1]]\n",
            "\n",
            "Shape:\t(4, 4)\n",
            "Rank:\\2\n",
            "Square?: Square.\n",
            "Special Characteristics: Identity Matrix.\n"
          ]
        }
      ]
    },
    {
      "cell_type": "markdown",
      "source": [
        "##Task 2"
      ],
      "metadata": {
        "id": "L20w5Afch1Id"
      }
    },
    {
      "cell_type": "markdown",
      "source": [
        "Create a function named mat_operations() that takes in two matrices a input parameters it should\n",
        "\n",
        "1. Determines if the matrices are viable for operation and returns your own error message if they are not viable.\n",
        "2. Returns the sum of the matrices.\n",
        "3. Returns the differen of the matrices.\n",
        "4. Returns the element-wise multiplication of the matrices.\n",
        "5. Returns the element-wise division of the matrices.\n",
        "\n",
        "\n",
        "Use 5 sample matrices in which their shapes are not lower than (3,3) . In your methodology, create a flowchart discuss the functions and methods you have done. Present your results in the results section showing the description of each matrix you have declared."
      ],
      "metadata": {
        "id": "SbnDwx11h4Hk"
      }
    },
    {
      "cell_type": "code",
      "source": [
        "# Function Area\n",
        "import numpy as np\n",
        "import matplotlib.pyplot as plt\n",
        "import scipy.linalg as la \n",
        "%matplotlib inline\n",
        "def mat_operations(matA,matB):\n",
        "  op = input(\"Enter opration(+,-,*,/): \")\n",
        "  if matA.shape == matB.shape:\n",
        "    # proceed to operations\n",
        "    if op == '+':\n",
        "      return matA + matB\n",
        "    elif op == '-':\n",
        "      return matA - matB\n",
        "    elif op == '*':\n",
        "      return matA * matB\n",
        "    elif op == '/':\n",
        "      return matA/matB\n",
        "    else:\n",
        "      print(\"The matrices are viable but you have not inputted a correct operation.\")\n",
        "  else:\n",
        "      print(\"Huhuhu.The matrices are not viable.\")"
      ],
      "metadata": {
        "id": "3KA-B3ybiCWg"
      },
      "execution_count": 6,
      "outputs": []
    },
    {
      "cell_type": "code",
      "source": [
        "#Matrix declarations \n",
        "A = np.array([ \n",
        "    [1,1,1,1], \n",
        "    [1,1,1,1], \n",
        "    [1,1,1,1],\n",
        "    [1,1,1,1]\n",
        "])\n",
        "B = np.array([\n",
        "    [2, 2, 2, 2],\n",
        "    [2, 2, 2, 2],\n",
        "    [2, 2, 2, 2],\n",
        "    [2, 2, 2, 2], \n",
        "]) \n",
        "C = np.array([\n",
        "    [3, 3, 3, 3],\n",
        "    [3, 3, 3, 3], \n",
        "    [3, 3, 3, 3]\n",
        "])\n",
        "D = np.array([\n",
        "    [4, 4, 4, 4],\n",
        "    [4, 4, 4, 4],\n",
        "    [4, 4, 4, 4]\n",
        "])"
      ],
      "metadata": {
        "id": "xyTBGnqciCmI"
      },
      "execution_count": 7,
      "outputs": []
    },
    {
      "cell_type": "code",
      "source": [
        "mat_operations(A,C)"
      ],
      "metadata": {
        "id": "VTltdWb3iCy-",
        "colab": {
          "base_uri": "https://localhost:8080/"
        },
        "outputId": "8d23ca32-81bf-482d-cb29-dc92d491ba7e"
      },
      "execution_count": 9,
      "outputs": [
        {
          "output_type": "stream",
          "name": "stdout",
          "text": [
            "Enter opration(+,-,*,/): /\n",
            "Huhuhu.The matrices are not viable.\n"
          ]
        }
      ]
    },
    {
      "cell_type": "code",
      "source": [
        "mat_operations(D,C)"
      ],
      "metadata": {
        "colab": {
          "base_uri": "https://localhost:8080/"
        },
        "id": "s072DqFy6W_q",
        "outputId": "72bf65e8-3bd3-4a0b-f590-c9c8ff05ac93"
      },
      "execution_count": 10,
      "outputs": [
        {
          "name": "stdout",
          "output_type": "stream",
          "text": [
            "Enter opration(+,-,*,/): *\n"
          ]
        },
        {
          "output_type": "execute_result",
          "data": {
            "text/plain": [
              "array([[12, 12, 12, 12],\n",
              "       [12, 12, 12, 12],\n",
              "       [12, 12, 12, 12]])"
            ]
          },
          "metadata": {},
          "execution_count": 10
        }
      ]
    },
    {
      "cell_type": "code",
      "source": [
        "mat_operations(A,B)"
      ],
      "metadata": {
        "colab": {
          "base_uri": "https://localhost:8080/"
        },
        "id": "61UtVEwr6fUo",
        "outputId": "51dc141d-6fb3-4df9-e04c-baaa02a38c80"
      },
      "execution_count": 11,
      "outputs": [
        {
          "name": "stdout",
          "output_type": "stream",
          "text": [
            "Enter opration(+,-,*,/): -\n"
          ]
        },
        {
          "output_type": "execute_result",
          "data": {
            "text/plain": [
              "array([[-1, -1, -1, -1],\n",
              "       [-1, -1, -1, -1],\n",
              "       [-1, -1, -1, -1],\n",
              "       [-1, -1, -1, -1]])"
            ]
          },
          "metadata": {},
          "execution_count": 11
        }
      ]
    },
    {
      "cell_type": "markdown",
      "source": [
        "#Conclusion"
      ],
      "metadata": {
        "id": "W_nDCli3iDP1"
      }
    },
    {
      "cell_type": "markdown",
      "source": [
        "For your conclusion synthesize the concept and application of the laboratory. Briefly discuss what you have learned and achieved in this activity. Also answer the question: \"How can matrix operations solve problems in technology?\""
      ],
      "metadata": {
        "id": "jM2L71OfiEhl"
      }
    }
  ]
}